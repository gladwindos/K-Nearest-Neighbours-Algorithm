{
 "cells": [
  {
   "cell_type": "code",
   "execution_count": 3,
   "metadata": {},
   "outputs": [],
   "source": [
    "import numpy as np\n",
    "import math\n",
    "from sklearn.model_selection import train_test_split"
   ]
  },
  {
   "cell_type": "markdown",
   "metadata": {},
   "source": [
    "# Iris Dataset"
   ]
  },
  {
   "cell_type": "code",
   "execution_count": 4,
   "metadata": {},
   "outputs": [],
   "source": [
    "from sklearn.datasets import load_iris\n",
    "iris = load_iris()"
   ]
  },
  {
   "cell_type": "code",
   "execution_count": 5,
   "metadata": {},
   "outputs": [],
   "source": [
    "X = iris['data']\n",
    "y = iris['target']"
   ]
  },
  {
   "cell_type": "code",
   "execution_count": 6,
   "metadata": {},
   "outputs": [],
   "source": [
    "X_train, X_test, y_train, y_test = train_test_split(X, y, random_state=100)"
   ]
  },
  {
   "cell_type": "markdown",
   "metadata": {},
   "source": [
    "### Function for 1 Nearest Neighbour Algorithm"
   ]
  },
  {
   "cell_type": "code",
   "execution_count": 7,
   "metadata": {},
   "outputs": [],
   "source": [
    "def nn(X_train, y_train, X_test):\n",
    "    \n",
    "    y_pred = []\n",
    "    \n",
    "    for x_i in X_test:\n",
    "        \n",
    "        ed = []\n",
    "        current_min = math.inf\n",
    "        for x in X_train:\n",
    "            d = 0\n",
    "            i = 0\n",
    "            while i < len(x):\n",
    "                d += (x[i]-x_i[i])**2\n",
    "                i += 1\n",
    "            d = np.sqrt(d)\n",
    "            ed.append(d)\n",
    "            \n",
    "            if d < current_min:\n",
    "                current_min = d\n",
    "                            \n",
    "        y_pred.append(y_train[ed.index(current_min)])\n",
    "        \n",
    "    return y_pred\n"
   ]
  },
  {
   "cell_type": "markdown",
   "metadata": {},
   "source": [
    "### Function to calculate the number of errors (n_errors) and error rate (r_errors)"
   ]
  },
  {
   "cell_type": "code",
   "execution_count": 8,
   "metadata": {},
   "outputs": [],
   "source": [
    "def compute_errors(y_pred, y_test):\n",
    "    \n",
    "    n_errors = np.sum(y_pred != y_test)\n",
    "    \n",
    "    r_errors = n_errors / len(y_test)\n",
    "    \n",
    "    return n_errors, r_errors"
   ]
  },
  {
   "cell_type": "markdown",
   "metadata": {},
   "source": [
    "### Creating predictions for test dataset and computing the number of errors and error rate"
   ]
  },
  {
   "cell_type": "code",
   "execution_count": 9,
   "metadata": {},
   "outputs": [
    {
     "name": "stdout",
     "output_type": "stream",
     "text": [
      "Number of errors: 1\n",
      "Error rate: 0.0263157894737\n"
     ]
    }
   ],
   "source": [
    "# Using function on test set to get predictions\n",
    "y_pred_nn = nn(X_train, y_train, X_test)\n",
    "\n",
    "# Calculating number of errors and error rate\n",
    "n_test_errors, r_test_errors = compute_errors(y_pred_nn, y_test)\n",
    "print('Number of errors:', n_test_errors)\n",
    "print('Error rate:', r_test_errors)"
   ]
  },
  {
   "cell_type": "markdown",
   "metadata": {},
   "source": [
    "The results show that there is only 1 error and and the error rate is 0.0263"
   ]
  },
  {
   "cell_type": "markdown",
   "metadata": {},
   "source": [
    "### Function for K Nearest Neighbours"
   ]
  },
  {
   "cell_type": "code",
   "execution_count": 10,
   "metadata": {},
   "outputs": [],
   "source": [
    "def knn(X_train, y_train, X_test, k=1):\n",
    "    \n",
    "    y_pred = []\n",
    "    \n",
    "    for x_i in X_test:\n",
    "\n",
    "        ed = []\n",
    "        ed_mins = []\n",
    "        \n",
    "        for x in X_train:\n",
    "            d = 0\n",
    "            i = 0\n",
    "            \n",
    "            while i < len(x):\n",
    "                d += (x[i]-x_i[i])**2\n",
    "                i += 1\n",
    "                \n",
    "            d = np.sqrt(d)\n",
    "            ed.append(d)\n",
    "            \n",
    "            if len(ed_mins) < k:\n",
    "                ed_mins.append(d)\n",
    "            else:\n",
    "                ed_mins_max_i = np.argmax(ed_mins)\n",
    "                if d < ed_mins[ed_mins_max_i]:\n",
    "                    ed_mins[ed_mins_max_i] = d\n",
    "        \n",
    "        arr = []\n",
    "        for i in ed_mins:\n",
    "            arr.append(y_train[ed.index(i)])\n",
    "        \n",
    "        votes = {}\n",
    "        \n",
    "        for i in arr:\n",
    "            if i in votes:\n",
    "                votes[i] += 1\n",
    "            else:\n",
    "                votes[i] = 1\n",
    "\n",
    "        num_votes = 0\n",
    "        top_class = 0\n",
    "        \n",
    "        for key, val in votes.items():\n",
    "            if val > num_votes:\n",
    "                num_votes = val\n",
    "                top_class = key\n",
    "        \n",
    "        y_pred.append(top_class) \n",
    "        \n",
    "    return y_pred"
   ]
  },
  {
   "cell_type": "code",
   "execution_count": 11,
   "metadata": {},
   "outputs": [
    {
     "name": "stdout",
     "output_type": "stream",
     "text": [
      "Number of errors: 1\n",
      "Error rate: 0.0263157894737\n"
     ]
    }
   ],
   "source": [
    "y_pred_knn = knn(X_train, y_train, X_test, 3)\n",
    "n_errors, r_errors = compute_errors(y_pred_knn, y_test)\n",
    "print('Number of errors:', n_errors)\n",
    "print('Error rate:', r_errors)"
   ]
  },
  {
   "cell_type": "markdown",
   "metadata": {},
   "source": [
    "The KNN algorithm for k=3 gives the same error results as the k=1 Algorithm."
   ]
  },
  {
   "cell_type": "markdown",
   "metadata": {},
   "source": [
    "### Testing results against scikit learn method"
   ]
  },
  {
   "cell_type": "code",
   "execution_count": 12,
   "metadata": {},
   "outputs": [
    {
     "name": "stdout",
     "output_type": "stream",
     "text": [
      "Number of errors: 1\n",
      "Error rate: 0.0263157894737\n"
     ]
    }
   ],
   "source": [
    "from sklearn.neighbors import KNeighborsClassifier \n",
    "knn_test = KNeighborsClassifier(n_neighbors=3)\n",
    "knn_test.fit(X_train, y_train)\n",
    "prediction = knn_test.predict(X_test)\n",
    "n_errors_test, r_errors_test = compute_errors(prediction, y_test)\n",
    "print('Number of errors:', n_errors_test)\n",
    "print('Error rate:', r_errors_test)"
   ]
  },
  {
   "cell_type": "markdown",
   "metadata": {},
   "source": [
    "Results from the scikit learn method gives the same results."
   ]
  },
  {
   "cell_type": "markdown",
   "metadata": {},
   "source": [
    "### Ionsphere Dataset"
   ]
  },
  {
   "cell_type": "code",
   "execution_count": 13,
   "metadata": {},
   "outputs": [],
   "source": [
    "X2 = np.genfromtxt('ionosphere.txt', delimiter=',', usecols=np.arange(34))\n",
    "y2 = np.genfromtxt('ionosphere.txt', delimiter=',', usecols=34, dtype='int')\n",
    "X2_train, X2_test, y2_train, y2_test = train_test_split(X2, y2, random_state=100)"
   ]
  },
  {
   "cell_type": "markdown",
   "metadata": {},
   "source": [
    "For this new dataset, I will be using the knn method I created earlier. Since the method handles a general K, I can use it for 1 nearest neighbour also."
   ]
  },
  {
   "cell_type": "markdown",
   "metadata": {},
   "source": [
    "### One Nearest Neighbour"
   ]
  },
  {
   "cell_type": "code",
   "execution_count": 14,
   "metadata": {},
   "outputs": [
    {
     "name": "stdout",
     "output_type": "stream",
     "text": [
      "Number of errors: 10\n",
      "Error rate: 0.113636363636\n"
     ]
    }
   ],
   "source": [
    "y2_pred_nn = knn(X2_train, y2_train, X2_test, k=1)\n",
    "n2_errors, r2_errors = compute_errors(y2_pred_nn, y2_test)\n",
    "print('Number of errors:', n2_errors)\n",
    "print('Error rate:', r2_errors)"
   ]
  },
  {
   "cell_type": "markdown",
   "metadata": {},
   "source": [
    "For this dataset, there are 10 errors and an error rate of 0.114."
   ]
  },
  {
   "cell_type": "markdown",
   "metadata": {},
   "source": [
    "### Three Nearest Neighbours"
   ]
  },
  {
   "cell_type": "code",
   "execution_count": 15,
   "metadata": {},
   "outputs": [
    {
     "name": "stdout",
     "output_type": "stream",
     "text": [
      "Number of errors: 12\n",
      "Error rate: 0.136363636364\n"
     ]
    }
   ],
   "source": [
    "y2_pred_knn = knn(X2_train, y2_train, X2_test, 3)\n",
    "\n",
    "n2_errors, r2_errors = compute_errors(y2_pred_knn, y2_test)\n",
    "print('Number of errors:', n2_errors)\n",
    "print('Error rate:', r2_errors)"
   ]
  },
  {
   "cell_type": "markdown",
   "metadata": {},
   "source": [
    "When using 3 Nearest Neighbours, there are 12 errors and an error rate of 0.136. "
   ]
  },
  {
   "cell_type": "markdown",
   "metadata": {},
   "source": [
    " "
   ]
  },
  {
   "cell_type": "markdown",
   "metadata": {},
   "source": [
    "### Testing results against scikit-learn method"
   ]
  },
  {
   "cell_type": "code",
   "execution_count": 18,
   "metadata": {},
   "outputs": [
    {
     "name": "stdout",
     "output_type": "stream",
     "text": [
      "12\n",
      "0.136363636364\n"
     ]
    }
   ],
   "source": [
    "from sklearn.neighbors import KNeighborsClassifier \n",
    "knn_test = KNeighborsClassifier(n_neighbors=3)\n",
    "knn_test.fit(X2_train, y2_train)\n",
    "prediction = knn_test.predict(X2_test)\n",
    "n2_errors, r2_errors = compute_errors(prediction, y2_test)\n",
    "print(n2_errors)\n",
    "print(r2_errors)"
   ]
  },
  {
   "cell_type": "markdown",
   "metadata": {},
   "source": [
    "When using the scikit-learn method, the results are the same."
   ]
  }
 ],
 "metadata": {
  "kernelspec": {
   "display_name": "Python 3",
   "language": "python",
   "name": "python3"
  },
  "language_info": {
   "codemirror_mode": {
    "name": "ipython",
    "version": 3
   },
   "file_extension": ".py",
   "mimetype": "text/x-python",
   "name": "python",
   "nbconvert_exporter": "python",
   "pygments_lexer": "ipython3",
   "version": "3.6.6"
  }
 },
 "nbformat": 4,
 "nbformat_minor": 2
}
